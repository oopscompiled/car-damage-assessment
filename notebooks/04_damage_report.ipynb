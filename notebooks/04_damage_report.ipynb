{
 "cells": [
  {
   "cell_type": "code",
   "execution_count": null,
   "metadata": {},
   "outputs": [],
   "source": [
    "import sys\n",
    "import os\n",
    "import pandas as pd\n",
    "\n",
    "sys.path.append(os.path.abspath(\"../src\"))"
   ]
  },
  {
   "cell_type": "code",
   "execution_count": 3,
   "metadata": {},
   "outputs": [],
   "source": [
    "from detection.detector import Detector\n",
    "from segmentation.segmenter import Segmenter\n",
    "from utils import *"
   ]
  },
  {
   "cell_type": "code",
   "execution_count": null,
   "metadata": {},
   "outputs": [
    {
     "name": "stderr",
     "output_type": "stream",
     "text": [
      "/opt/miniconda3/envs/yolo-mps/lib/python3.10/site-packages/requests/__init__.py:86: RequestsDependencyWarning: Unable to find acceptable character detection dependency (chardet or charset_normalizer).\n",
      "  warnings.warn(\n"
     ]
    },
    {
     "name": "stdout",
     "output_type": "stream",
     "text": [
      "crack in front_bumper (conf=0.60, IoU=0.71)\n"
     ]
    },
    {
     "data": {
      "text/plain": [
       "['crack in front_bumper (conf=0.60, IoU=0.71)']"
      ]
     },
     "execution_count": 4,
     "metadata": {},
     "output_type": "execute_result"
    }
   ],
   "source": [
    "damage_model = Detector('path/to/model')\n",
    "parts_model = Segmenter('path/to/model')\n",
    "\n",
    "summary = build_damage_summary('path/to/image', damage_model, parts_model, conf=0.3)\n",
    "\n",
    "summary_for_report = []\n",
    "\n",
    "for item in summary:\n",
    "      \n",
    "      print(f\"{item['damage']} in {item['part']} \"\n",
    "            f\"(conf={item['confidence']:.2f}, IoU={item['iou']:.2f})\")\n",
    "      \n",
    "      summary_for_report.append(f\"{item['damage']} in {item['part']} \"\n",
    "            f\"(conf={item['confidence']:.2f}, IoU={item['iou']:.2f})\")\n",
    "      \n",
    "summary_for_report"
   ]
  },
  {
   "cell_type": "code",
   "execution_count": 62,
   "metadata": {},
   "outputs": [
    {
     "name": "stdout",
     "output_type": "stream",
     "text": [
      "File created\n"
     ]
    }
   ],
   "source": [
    "text_prepare(summary_for_report)"
   ]
  },
  {
   "cell_type": "code",
   "execution_count": null,
   "metadata": {},
   "outputs": [
    {
     "name": "stdout",
     "output_type": "stream",
     "text": [
      "# **Vehicle Damage Assessment Report**  \n",
      "**Report Date:** August 7, 2025 | 13:56:03  \n",
      "\n",
      "---  \n",
      "\n",
      "## **Vehicle Information**  \n",
      "- **Make:** Toyota  \n",
      "- **Model:** Corolla  \n",
      "- **Year:** 2018  \n",
      "- **VIN:** 1234ABCD5678  \n",
      "\n",
      "---  \n",
      "\n",
      "## **Detected Damages**  \n",
      "The following damages were identified using computer vision (CV) models. Confidence (conf) and Intersection over Union (IoU) scores indicate detection accuracy. Estimated repair costs are based on market averages.  \n",
      "\n",
      "1. **Scratch in hood**  \n",
      "   - **Detection Confidence:** 0.87  \n",
      "   - **IoU Score:** 0.79  \n",
      "   - **Estimated Repair Cost:** **$500.00** (Range: $425.00 – $575.00)  \n",
      "\n",
      "2. **Dent in front door**  \n",
      "   - **Detection Confidence:** 0.91  \n",
      "   - **IoU Score:** 0.82  \n",
      "   - **Estimated Repair Cost:** **$400.00** (Range: $340.00 – $460.00)  \n",
      "\n",
      "3. **Crack in roof**  \n",
      "   - **Detection Confidence:** 0.77  \n",
      "   - **IoU Score:** 0.69  \n",
      "   - **Estimated Repair Cost:** **$650.00** (LLM Estimate – Typical range: $550.00 – $750.00)  \n",
      "\n",
      "---  \n",
      "\n",
      "## **Total Estimated Repair Cost:** **$1,550.00**  \n",
      "\n",
      "---  \n",
      "\n",
      "### **Notes:**  \n",
      "- All cost estimates include parts and labor.  \n",
      "- Prices may vary based on repair shop rates and regional differences.  \n",
      "- A professional inspection is recommended for final assessment.  \n",
      "\n",
      "**End of Report**  \n",
      "\n",
      "*(This report is generated automatically and intended for preliminary assessment only.)*\n"
     ]
    }
   ],
   "source": [
    "# Please install OpenAI SDK first: `pip3 install openai`\n",
    "from openai import OpenAI\n",
    "from dotenv import load_dotenv\n",
    "from datetime import datetime\n",
    "\n",
    "current_time = datetime.now().strftime(\"%Y-%m-%d %H:%M:%S\")\n",
    "\n",
    "load_dotenv()\n",
    "\n",
    "client = OpenAI(api_key=os.getenv('OPENAI_API_KEY'), base_url=\"https://api.deepseek.com\")\n",
    "\n",
    "with open(\"report/report.txt\", \"r\", encoding=\"utf-8\") as f:\n",
    "    report_content = f.read()\n",
    "\n",
    "user_data = {\n",
    "    \"make\": \"Toyota\",\n",
    "    \"model\": \"Corolla\",\n",
    "    \"year\": \"2018\",\n",
    "    \"vin\": \"1234ABCD5678\"\n",
    "}\n",
    "\n",
    "prompt = f\"\"\"\n",
    "Generate a professional vehicle damage assessment report.\n",
    "Include the report date, vehicle details, and the list of detected damages.\n",
    "\n",
    "Each damage should be formatted like:\n",
    "'<damage_type> in <vehicle_part> (conf=<confidence>, IoU=<IoU>) — Estimated repair cost: $XXX'\n",
    "\n",
    "If any damage entry doesn't include a price, estimate a reasonable repair cost based on average market rates for that type of damage and part.\n",
    "\n",
    "Report Date: {current_time}\n",
    "\n",
    "Vehicle Information:\n",
    "- Make: {user_data['make']}\n",
    "- Model: {user_data['model']}\n",
    "- Year: {user_data['year']}\n",
    "- VIN: {user_data['vin']}\n",
    "\n",
    "Detected Damages (from CV models):\n",
    "{report_content}\n",
    "\n",
    "Write the report in clear and structured English, ready to be converted into a PDF.\n",
    "\"\"\"\n",
    "\n",
    "response = client.chat.completions.create(\n",
    "    model=\"deepseek-chat\",\n",
    "    messages=[\n",
    "        {\"role\": \"system\", \"content\": \"You are a report generator for vehicle damage assessments.\"},\n",
    "        {\"role\": \"user\", \"content\": prompt}\n",
    "    ],\n",
    "    stream=False\n",
    ")\n",
    "\n",
    "print(response.choices[0].message.content)"
   ]
  },
  {
   "cell_type": "code",
   "execution_count": 55,
   "metadata": {},
   "outputs": [
    {
     "name": "stdout",
     "output_type": "stream",
     "text": [
      "File created\n"
     ]
    }
   ],
   "source": [
    "text_prepare(response.choices[0].message.content)"
   ]
  },
  {
   "cell_type": "code",
   "execution_count": null,
   "metadata": {},
   "outputs": [],
   "source": [
    "damage = pd.read_csv('/Users/pacuk/Documents/cv-project/car-damage-assessment/data/damage_costs.csv')"
   ]
  },
  {
   "cell_type": "markdown",
   "metadata": {},
   "source": [
    "# EXAMPLE"
   ]
  },
  {
   "cell_type": "code",
   "execution_count": null,
   "metadata": {},
   "outputs": [
    {
     "data": {
      "text/plain": [
       "['scratch in hood (conf=0.87, IoU=0.79) — Estimated Cost: $500.0 (range: $425.0–$575.0)',\n",
       " 'dent in front_door (conf=0.91, IoU=0.82) — Estimated Cost: $400.0 (range: $340.0–$460.0)',\n",
       " 'crack in roof (conf=0.77, IoU=0.69) — Estimated Cost: [LLM Estimate Needed]']"
      ]
     },
     "execution_count": 50,
     "metadata": {},
     "output_type": "execute_result"
    }
   ],
   "source": [
    "report_lines = [\n",
    "    \"scratch in hood (conf=0.87, IoU=0.79)\",\n",
    "    \"dent in front_door (conf=0.91, IoU=0.82)\",\n",
    "    \"crack in roof (conf=0.77, IoU=0.69)\",\n",
    "]\n",
    "\n",
    "user_data = {\n",
    "    \"make\": \"Toyota\",\n",
    "    \"model\": \"Corolla\",\n",
    "    \"year\": \"2018\"\n",
    "}\n",
    "\n",
    "filtered = damage[\n",
    "    (damage['make'] == user_data['make'].lower()) &\n",
    "    (damage['model'] == user_data['model'].lower()) &\n",
    "    (damage['model_year'] == int(user_data['year']))\n",
    "]\n",
    "\n",
    "fallback_means = (\n",
    "    damage\n",
    "    .groupby(['damage_type', 'part'])['average_cost_usd']\n",
    "    .mean()\n",
    "    .reset_index()\n",
    ")\n",
    "\n",
    "\n",
    "def get_estimated_cost(damage_type, part):\n",
    "    match = filtered[\n",
    "        (filtered['damage_type'] == damage_type) &\n",
    "        (filtered['part'] == part)\n",
    "    ]\n",
    "    if not match.empty:\n",
    "        avg = match['average_cost_usd'].mean()\n",
    "        return round(avg, 2), round(avg * 0.85, 2), round(avg * 1.15, 2)\n",
    "\n",
    "    fallback = fallback_means[\n",
    "        (fallback_means['damage_type'] == damage_type) &\n",
    "        (fallback_means['part'] == part)\n",
    "    ]\n",
    "    if not fallback.empty:\n",
    "        avg = fallback['average_cost_usd'].values[0]\n",
    "        return round(avg, 2), round(avg * 0.85, 2), round(avg * 1.15, 2)\n",
    "\n",
    "    return None, None, None\n",
    "\n",
    "final_damage_list = []\n",
    "\n",
    "for line in report_lines:\n",
    "    if \" in \" not in line:\n",
    "        continue\n",
    "    damage_type = line.split(\" in \")[0].strip()\n",
    "    part = line.split(\" in \")[1].split(\" \")[0].strip()\n",
    "    est, low, high = get_estimated_cost(damage_type, part)\n",
    "    if est:\n",
    "        final_line = f\"{line} — Estimated Cost: ${est} (range: ${low}–${high})\"\n",
    "    else:\n",
    "        final_line = f\"{line} — Estimated Cost: [LLM Estimate Needed]\"\n",
    "    final_damage_list.append(final_line)\n",
    "\n",
    "final_damage_list\n"
   ]
  },
  {
   "cell_type": "code",
   "execution_count": 56,
   "metadata": {},
   "outputs": [
    {
     "name": "stdout",
     "output_type": "stream",
     "text": [
      "File created\n"
     ]
    }
   ],
   "source": [
    "text_prepare(final_damage_list)"
   ]
  }
 ],
 "metadata": {
  "kernelspec": {
   "display_name": "yolo-mps",
   "language": "python",
   "name": "python3"
  },
  "language_info": {
   "codemirror_mode": {
    "name": "ipython",
    "version": 3
   },
   "file_extension": ".py",
   "mimetype": "text/x-python",
   "name": "python",
   "nbconvert_exporter": "python",
   "pygments_lexer": "ipython3",
   "version": "3.10.18"
  }
 },
 "nbformat": 4,
 "nbformat_minor": 2
}
