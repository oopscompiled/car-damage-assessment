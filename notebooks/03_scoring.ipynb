{
 "cells": [
  {
   "cell_type": "code",
   "execution_count": null,
   "metadata": {},
   "outputs": [],
   "source": [
    "import sys\n",
    "import os\n",
    "\n",
    "sys.path.append(os.path.abspath(\"../src\"))"
   ]
  },
  {
   "cell_type": "code",
   "execution_count": null,
   "metadata": {},
   "outputs": [],
   "source": [
    "from detection.detector import Detector\n",
    "from segmentation.segmenter import Segmenter\n",
    "from utils import *"
   ]
  },
  {
   "cell_type": "code",
   "execution_count": null,
   "metadata": {},
   "outputs": [],
   "source": [
    "set_seed()"
   ]
  },
  {
   "cell_type": "code",
   "execution_count": null,
   "metadata": {},
   "outputs": [],
   "source": [
    "model_damage = Detector('path/to/model')\n",
    "model_parts = Segmenter('path/to/model')\n",
    "\n",
    "\n",
    "file_path = 'path/to/image'\n",
    "\n",
    "infer = Inference(model_damage, file_path)\n",
    "infer.run(conf=0.7, iou=0.1)\n",
    "\n",
    "infer = Inference(model_parts, file_path)\n",
    "infer.run(conf=0.7, iou=0.1)"
   ]
  },
  {
   "cell_type": "code",
   "execution_count": null,
   "metadata": {},
   "outputs": [],
   "source": [
    "summary = build_damage_summary(file_path, model_damage, model_parts, conf=0.3)\n",
    "\n",
    "summary_for_report = []\n",
    "\n",
    "for item in summary:\n",
    "      \n",
    "      print(f\"{item['damage']} in {item['part']} \"\n",
    "            f\"(conf={item['confidence']:.2f}, IoU={item['iou']:.2f})\")\n",
    "      \n",
    "      summary_for_report.append(f\"{item['damage']} in {item['part']} \"\n",
    "            f\"(conf={item['confidence']:.2f}, IoU={item['iou']:.2f})\")"
   ]
  },
  {
   "cell_type": "code",
   "execution_count": null,
   "metadata": {},
   "outputs": [],
   "source": [
    "summary_for_report"
   ]
  }
 ],
 "metadata": {
  "kernelspec": {
   "display_name": "yolo-mps",
   "language": "python",
   "name": "python3"
  },
  "language_info": {
   "codemirror_mode": {
    "name": "ipython",
    "version": 3
   },
   "file_extension": ".py",
   "mimetype": "text/x-python",
   "name": "python",
   "nbconvert_exporter": "python",
   "pygments_lexer": "ipython3",
   "version": "3.10.18"
  }
 },
 "nbformat": 4,
 "nbformat_minor": 2
}
