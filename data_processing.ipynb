{
 "cells": [
  {
   "cell_type": "markdown",
   "metadata": {},
   "source": [
    "This notebook refer to the process of updating the original data due to the lack of classes and their uncertainty, such as left and right mirrors, left and right doors, which are identical in most cases, which in turn can play a bad joke in further segmentation and detection processes, as well as requesting their estimated price."
   ]
  },
  {
   "cell_type": "code",
   "execution_count": null,
   "metadata": {},
   "outputs": [],
   "source": [
    "from utils import *"
   ]
  },
  {
   "cell_type": "code",
   "execution_count": null,
   "metadata": {},
   "outputs": [],
   "source": [
    "url = 'path/train/images'\n",
    "\n",
    "visualize(url)"
   ]
  },
  {
   "cell_type": "code",
   "execution_count": null,
   "metadata": {},
   "outputs": [],
   "source": [
    "result = manual_inspect('path/train/labels/*.txt', target=[18])\n",
    "print(result)"
   ]
  },
  {
   "cell_type": "code",
   "execution_count": null,
   "metadata": {},
   "outputs": [],
   "source": [
    "labels_dirs = [\n",
    "    'path/train/labels',\n",
    "    'path/valid/labels',\n",
    "    'path/test/labels'\n",
    "]\n",
    "\n",
    "image_exts = ['.jpg', '.jpeg', '.png']\n",
    "\n",
    "final_names = {\n",
    "    0: 'back_bumper', 1: 'back_door', 2: 'back_glass', 3: 'back_light',\n",
    "    4: 'front_bumper', 5: 'front_door', 6: 'front_glass', 7: 'front_light',\n",
    "    8: 'hood', 9: 'mirror', 10: 'tailgate', 11: 'trunk', 12: 'wheel'\n",
    "}\n",
    "\n",
    "global_remap = {\n",
    "    0: 0, 1: 1, 2: 2, 5: 3, 8: 4, 9: 5, 10: 6, 13: 7, 16: 8, 17: 9, 20: 10, 21: 11, 22: 12\n",
    "}\n",
    "\n",
    "merge_map = {\n",
    "    19: 17, 3: 1, 6: 1, 11: 9, 14: 9, 4: 5, 7: 5, 12: 13, 15: 13\n",
    "}\n",
    "\n",
    "preprocessor = Preprocess(labels_dirs, image_exts, final_names, global_remap, merge_map)\n",
    "preprocessor.run()"
   ]
  }
 ],
 "metadata": {
  "kernelspec": {
   "display_name": "myenv",
   "language": "python",
   "name": "python3"
  },
  "language_info": {
   "codemirror_mode": {
    "name": "ipython",
    "version": 3
   },
   "file_extension": ".py",
   "mimetype": "text/x-python",
   "name": "python",
   "nbconvert_exporter": "python",
   "pygments_lexer": "ipython3",
   "version": "3.12.9"
  }
 },
 "nbformat": 4,
 "nbformat_minor": 2
}
